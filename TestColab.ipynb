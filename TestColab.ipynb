{
  "nbformat": 4,
  "nbformat_minor": 0,
  "metadata": {
    "colab": {
      "name": "TestColab.ipynb",
      "version": "0.3.2",
      "provenance": [],
      "collapsed_sections": [],
      "include_colab_link": true
    },
    "kernelspec": {
      "name": "python3",
      "display_name": "Python 3"
    }
  },
  "cells": [
    {
      "cell_type": "markdown",
      "metadata": {
        "id": "view-in-github",
        "colab_type": "text"
      },
      "source": [
        "<a href=\"https://colab.research.google.com/github/RedevLtd/LogRelay/blob/master/TestColab.ipynb\" target=\"_parent\"><img src=\"https://colab.research.google.com/assets/colab-badge.svg\" alt=\"Open In Colab\"/></a>"
      ]
    },
    {
      "cell_type": "markdown",
      "metadata": {
        "id": "2gT8CQ0fOuZA",
        "colab_type": "text"
      },
      "source": [
        "This is our first Colab notebook."
      ]
    },
    {
      "cell_type": "code",
      "metadata": {
        "id": "r8f4xpytPT0A",
        "colab_type": "code",
        "colab": {
          "base_uri": "https://localhost:8080/",
          "height": 35
        },
        "outputId": "b060c8d6-1870-4852-df98-16f1944fc17f"
      },
      "source": [
        "print(\"hello world from colab!\");"
      ],
      "execution_count": 1,
      "outputs": [
        {
          "output_type": "stream",
          "text": [
            "hello world from colab!\n"
          ],
          "name": "stdout"
        }
      ]
    }
  ]
}